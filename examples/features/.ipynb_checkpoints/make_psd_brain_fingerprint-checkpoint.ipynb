{
 "cells": [
  {
   "cell_type": "markdown",
   "metadata": {},
   "source": [
    "## PSD Using mne features"
   ]
  },
  {
   "cell_type": "code",
   "execution_count": null,
   "metadata": {},
   "outputs": [],
   "source": [
    "import os.path as op\n",
    "import numpy as np\n",
    "from scipy import stats\n",
    "import mne\n",
    "\n",
    "import matplotlib.pyplot as plt\n",
    "import seaborn as sns\n",
    "\n",
    "from mne.time_frequency import psd_welch, psd_multitaper\n",
    "\n",
    "from jumeg.jumeg_utils import rescale_arr\n",
    "from jumeg import get_jumeg_path\n",
    "from jumeg.connectivity import plot_grouped_connectivity_circle\n",
    "\n",
    "from mne_features.feature_extraction import extract_features\n",
    "from mne_features.univariate import _freq_bands_helper\n",
    "\n",
    "from rasmalai.network_utils import (make_count_based_stats,\n",
    "                                    make_combined_average,\n",
    "                                    get_con_metrics, get_coords_given_labels)\n",
    "\n",
    "from glob import glob\n",
    "import yaml\n",
    "import pickle\n",
    "import time\n",
    "t_start = time.time()\n",
    "\n",
    "sns.set_style('white')"
   ]
  },
  {
   "cell_type": "code",
   "execution_count": 2,
   "metadata": {},
   "outputs": [
    {
     "name": "stdout",
     "output_type": "stream",
     "text": [
      "Reading /Users/psripad/kelsa/epochs_with_artifacts/207184_rest_EC_0.6-200bp_bcc,nr,ar,1-epo.fif ...\n",
      "    Found the data of interest:\n",
      "        t =    -499.87 ...     499.87 ms\n",
      "        0 CTF compensation matrices available\n",
      "430 matching events found\n",
      "No baseline correction applied\n",
      "Not setting metadata\n",
      "0 projection items activated\n"
     ]
    }
   ],
   "source": [
    "epoch_fname = '/Users/psripad/kelsa/epochs_with_artifacts/207184_rest_EC_0.6-200bp_bcc,nr,ar,1-epo.fif'\n",
    "epochs = mne.read_epochs(epoch_fname, preload=True)\n",
    "data = epochs.get_data()"
   ]
  },
  {
   "cell_type": "code",
   "execution_count": 3,
   "metadata": {},
   "outputs": [],
   "source": [
    "n_colors = 7\n",
    "color_list = plt.cm.Pastel1(np.linspace(0, 1, n_colors))\n",
    "bands = ['delta', 'theta', 'alpha', 'beta1', 'beta2', 'gamma1', 'gamma2']\n",
    "freqs = np.array([1., 4., 8., 13., 18., 30., 80., 200.])\n",
    "selected_funcs = {'pow_freq_bands'}"
   ]
  },
  {
   "cell_type": "code",
   "execution_count": 4,
   "metadata": {},
   "outputs": [],
   "source": [
    "def get_psd_fingerprint(epochs, freq_bands=None, normalize=True):\n",
    "    '''Function to compute PSDs on epochs and return\n",
    "       normalized power across the given frequency bands\n",
    "       \n",
    "       PSDs are computed using Welch's method and the sum\n",
    "       of PSDs across frequencies (normalised) with the\n",
    "       total power is returned.\n",
    "       \n",
    "       Uses the mne-features toolbox.\n",
    "       \n",
    "       Inputs\n",
    "       ------\n",
    "       epochs: mne.Epochs\n",
    "           Instance of epochs.\n",
    "    \n",
    "       Output\n",
    "       ------\n",
    "       X_avg: ndarray\n",
    "           Mean (normalized) sum of PSDs across given frequencies.\n",
    "       \n",
    "   '''\n",
    "    from mne_features.feature_extraction import extract_features\n",
    "    if not freq_bands:\n",
    "        freq_bands = np.array([1., 4., 8., 13., 18., 30., 80., 200.])\n",
    "\n",
    "    selected_funcs = {'pow_freq_bands'}\n",
    "    X_new = extract_features(data, epochs.info['sfreq'], selected_funcs,\n",
    "                             funcs_params={'pow_freq_bands__freq_bands': freqs,\n",
    "                                           'pow_freq_bands__normalize': normalize,\n",
    "                                           'pow_freq_bands__ratios': None,\n",
    "                                           'pow_freq_bands__psd_method': 'welch',\n",
    "                                           'pow_freq_bands__psd_params': {'welch_n_fft': 512}})\n",
    "    X_new = X_new.reshape((len(epochs), -1, len(freqs) - 1))\n",
    "    X_avg = X_new.mean(axis=(0, 1))\n",
    "    return X_avg"
   ]
  },
  {
   "cell_type": "code",
   "execution_count": 20,
   "metadata": {},
   "outputs": [],
   "source": [
    "def get_normalised_psds_welch(epochs, norm_freq=[80., 200.],\n",
    "                              freq_bands=None, grand_average=False):\n",
    "    '''Function to estimate PSDs and normalize\n",
    "       the PSD values by given frequency band.\n",
    "    \n",
    "    Input\n",
    "    -----\n",
    "    epochs: mne.Epochs\n",
    "        Epochs instance.\n",
    "\n",
    "    norm_freq: list\n",
    "        List giving frequency range to use for normalization.\n",
    "    \n",
    "    freq_bands: ndarray | list\n",
    "        List of frequencies used to make average across bands.\n",
    "        If this option is not None, then average normalized PSDs\n",
    "        across the given bands are returned.\n",
    "        (default: [1., 4., 8., 13., 18., 30., 80., 200.])\n",
    "        \n",
    "    grand_average: bool\n",
    "        If True, then average across trials and channels are returned.\n",
    "    \n",
    "    Output\n",
    "    ------\n",
    "    norm_psds_welch: ndarray\n",
    "        Normalized psds of shape (n_trials, n_channels, n_freqs)\n",
    "\n",
    "    freqs_welch: ndarray\n",
    "        Frequency points for which PSDs are estimated. \n",
    "    \n",
    "    ''' \n",
    "    from mne.time_frequency import psd_welch\n",
    "    from mne import pick_types\n",
    "    from mne_features.univariate import _freq_bands_helper\n",
    "\n",
    "    # estimate the PSDs\n",
    "    picks = pick_types(epochs.info, meg=True, exclude='bads')\n",
    "    psds_welch, freqs_welch = psd_welch(epochs, fmin=1., fmax=200., n_fft=512,\n",
    "                                        picks=picks, n_jobs=4, average='mean')\n",
    "\n",
    "    # get the mask for the freq range to be used for normalization\n",
    "    norm_mask = np.logical_and(freqs_welch >= norm_freq[0], freqs_welch <= norm_freq[1])\n",
    "    # compute mean PSDs across the freq range\n",
    "    norm_mean = psds_welch[:, :, norm_mask].mean(axis=2)\n",
    "    # get the normalized values\n",
    "    norm_psds_welch = psds_welch / norm_mean[:, :, np.newaxis]\n",
    "    \n",
    "    if freq_bands is not None:\n",
    "        psds_band_ = np.zeros((norm_psds_welch.shape[0],\n",
    "                               norm_psds_welch.shape[1],\n",
    "                               len(freq_bands) - 1))\n",
    "        for i, (fmin, fmax) in enumerate(_freq_bands_helper(epochs.info['sfreq'], freq_bands)):\n",
    "            mask = np.logical_and(freqs_welch >= fmin, freqs_welch <= fmax)\n",
    "            psds_band_[:, :, i] = norm_psds_welch[:, :, mask].mean(axis=(2))\n",
    "        if grand_average:\n",
    "            # return the average across trials and channels and bands\n",
    "            return psds_band_.mean(axis=(0, 1))\n",
    "        else:\n",
    "            # return the psds averaged across frequency bands only\n",
    "            return psds_band_\n",
    "    else:\n",
    "        if grand_average:\n",
    "            return norm_psds_welch.mean(axis=(0, 1)), freqs_welch\n",
    "        else:\n",
    "            # return the normalized psds and corresponding freqs\n",
    "            return norm_psds_welch, freqs_welch"
   ]
  },
  {
   "cell_type": "code",
   "execution_count": 6,
   "metadata": {},
   "outputs": [
    {
     "name": "stdout",
     "output_type": "stream",
     "text": [
      "Effective window size : 0.755 (s)\n"
     ]
    },
    {
     "name": "stderr",
     "output_type": "stream",
     "text": [
      "[Parallel(n_jobs=4)]: Using backend LokyBackend with 4 concurrent workers.\n",
      "[Parallel(n_jobs=4)]: Done   2 out of   4 | elapsed:   16.4s remaining:   16.4s\n",
      "[Parallel(n_jobs=4)]: Done   4 out of   4 | elapsed:   26.1s remaining:    0.0s\n",
      "[Parallel(n_jobs=4)]: Done   4 out of   4 | elapsed:   26.1s finished\n"
     ]
    },
    {
     "name": "stdout",
     "output_type": "stream",
     "text": [
      "(430, 247, 150)\n"
     ]
    }
   ],
   "source": [
    "mypsds1, myfreqs = get_normalised_psds_welch(epochs, norm_freq=[80., 200.], freq_bands=None)\n",
    "print(mypsds1.shape)"
   ]
  },
  {
   "cell_type": "code",
   "execution_count": 21,
   "metadata": {},
   "outputs": [
    {
     "name": "stdout",
     "output_type": "stream",
     "text": [
      "Effective window size : 0.755 (s)\n"
     ]
    },
    {
     "name": "stderr",
     "output_type": "stream",
     "text": [
      "[Parallel(n_jobs=4)]: Using backend LokyBackend with 4 concurrent workers.\n",
      "[Parallel(n_jobs=4)]: Done   2 out of   4 | elapsed:   12.7s remaining:   12.7s\n",
      "[Parallel(n_jobs=4)]: Done   4 out of   4 | elapsed:   34.1s remaining:    0.0s\n",
      "[Parallel(n_jobs=4)]: Done   4 out of   4 | elapsed:   34.1s finished\n"
     ]
    },
    {
     "name": "stdout",
     "output_type": "stream",
     "text": [
      "(430, 247, 7)\n"
     ]
    }
   ],
   "source": [
    "mypsds2 = get_normalised_psds_welch(epochs, norm_freq=[80., 200.],\n",
    "                                    freq_bands=np.array([1., 4., 8., 13., 18., 30., 80., 200.]))\n",
    "print(mypsds2.shape)"
   ]
  },
  {
   "cell_type": "code",
   "execution_count": 22,
   "metadata": {},
   "outputs": [
    {
     "name": "stdout",
     "output_type": "stream",
     "text": [
      "Effective window size : 0.755 (s)\n"
     ]
    },
    {
     "name": "stderr",
     "output_type": "stream",
     "text": [
      "[Parallel(n_jobs=4)]: Using backend LokyBackend with 4 concurrent workers.\n",
      "[Parallel(n_jobs=4)]: Done   2 out of   4 | elapsed:   34.9s remaining:   34.9s\n",
      "[Parallel(n_jobs=4)]: Done   4 out of   4 | elapsed:  1.1min remaining:    0.0s\n",
      "[Parallel(n_jobs=4)]: Done   4 out of   4 | elapsed:  1.1min finished\n"
     ]
    },
    {
     "name": "stdout",
     "output_type": "stream",
     "text": [
      "(7,)\n"
     ]
    }
   ],
   "source": [
    "mypsds3 = get_normalised_psds_welch(epochs, norm_freq=[80., 200.],\n",
    "                                    freq_bands=np.array([1., 4., 8., 13., 18., 30., 80., 200.]), \n",
    "                                    grand_average=True)\n",
    "print(mypsds3.shape)"
   ]
  },
  {
   "cell_type": "code",
   "execution_count": null,
   "metadata": {
    "scrolled": true
   },
   "outputs": [],
   "source": [
    "picks = mne.pick_types(epochs.info, meg=True, exclude='bads')\n",
    "psds_welch, freqs_welch = psd_welch(epochs, fmin=1., fmax=200., n_fft=512,\n",
    "                                    picks=picks, n_jobs=4, average='mean')"
   ]
  },
  {
   "cell_type": "code",
   "execution_count": null,
   "metadata": {},
   "outputs": [],
   "source": [
    "myavg = get_psd_fingerprint(epochs, freq_bands=None, normalize=False)\n",
    "print(myavg)"
   ]
  },
  {
   "cell_type": "code",
   "execution_count": null,
   "metadata": {},
   "outputs": [],
   "source": [
    "data.shape"
   ]
  },
  {
   "cell_type": "markdown",
   "metadata": {},
   "source": [
    "So there are 430 epochs, 247 channels and 679 time points. \n",
    "\n",
    "PSDs averaged across epochs and channels result in 7 data points, one for each frequency band."
   ]
  },
  {
   "cell_type": "markdown",
   "metadata": {},
   "source": [
    "### Check PSDs using Welch's method\n",
    "\n",
    "Learned that the extract_features returns the sum of PSDs over a given frequency range if it is not nromalized. This leads to a difference in the values between the mne-features function and the mne time_frequency function."
   ]
  },
  {
   "cell_type": "code",
   "execution_count": null,
   "metadata": {
    "scrolled": true
   },
   "outputs": [],
   "source": [
    "# compute PSDs and plot using Welch's algorithm\n",
    "picks = mne.pick_types(epochs.info, meg=True, exclude='bads')\n",
    "psds_welch, freqs_welch = psd_welch(epochs, fmin=1., fmax=200., n_fft=256,\n",
    "                                    picks=picks, n_jobs=4, average='mean')\n",
    "psds_welch_avg = psds_welch.mean(axis=(0, 1))"
   ]
  },
  {
   "cell_type": "code",
   "execution_count": null,
   "metadata": {},
   "outputs": [],
   "source": [
    "_freq_bands_helper?"
   ]
  },
  {
   "cell_type": "code",
   "execution_count": null,
   "metadata": {},
   "outputs": [],
   "source": [
    "X_new = extract_features(data, epochs.info['sfreq'], selected_funcs,\n",
    "                         funcs_params={'pow_freq_bands__freq_bands': freqs,\n",
    "                                       'pow_freq_bands__normalize': False,\n",
    "                                       'pow_freq_bands__ratios': None,\n",
    "                                       'pow_freq_bands__psd_method': 'welch',\n",
    "                                       'pow_freq_bands__psd_params': {'welch_n_fft': 256}})\n",
    "X_new = X_new.reshape((430, -1, len(freqs) - 1))\n",
    "X_avg = X_new.mean(axis=(0, 1))\n",
    "print('Welch:', X_avg)\n",
    "\n",
    "plt.figure(figsize=(10, 8))\n",
    "plt.plot(freqs_welch, psds_welch_avg);\n",
    "for i, (fmin, fmax) in enumerate(_freq_bands_helper(epochs.info['sfreq'], freqs)):\n",
    "    mask = np.logical_and(freqs_welch >= fmin, freqs_welch <= fmax)\n",
    "    plt.axhline(X_avg[i] / len(freqs_welch[mask]), 0, 1, label=bands[i], color=color_list[i]);\n",
    "\n",
    "plt.legend();\n",
    "plt.title('Welch');\n",
    "plt.xlabel('freqs');\n",
    "plt.ylabel('PSDs');"
   ]
  },
  {
   "cell_type": "markdown",
   "metadata": {},
   "source": [
    "### Compare PSDs using multitaper algorithm"
   ]
  },
  {
   "cell_type": "code",
   "execution_count": null,
   "metadata": {},
   "outputs": [],
   "source": [
    "# compute PSDs and plot using multitaper algorithm\n",
    "picks = mne.pick_types(epochs.info, meg=True, exclude='bads')\n",
    "psds_multitaper, freqs_multi = psd_multitaper(epochs, fmin=1., fmax=200.,\n",
    "                                              picks=picks, n_jobs=4,\n",
    "                                              normalization='length')"
   ]
  },
  {
   "cell_type": "code",
   "execution_count": null,
   "metadata": {},
   "outputs": [],
   "source": [
    "X_new = extract_features(data, epochs.info['sfreq'], selected_funcs,\n",
    "                         funcs_params={'pow_freq_bands__freq_bands': freqs,\n",
    "                                       'pow_freq_bands__normalize': False,\n",
    "                                       'pow_freq_bands__ratios': None,\n",
    "                                       'pow_freq_bands__psd_method': 'multitaper'})\n",
    "X_new = X_new.reshape((430, -1, len(freqs) - 1))\n",
    "X_avg = X_new.mean(axis=(0, 1))\n",
    "\n",
    "plt.figure(figsize=(10, 8))\n",
    "plt.plot(freqs_multi, psds_multitaper.mean(axis=(0, 1)));\n",
    "for i, (fmin, fmax) in enumerate(_freq_bands_helper(epochs.info['sfreq'], freqs)):\n",
    "    mask = np.logical_and(freqs_multi >= fmin, freqs_multi <= fmax)\n",
    "    plt.axhline(X_avg[i] / len(freqs_multi[mask]), 0, 1,\n",
    "                label=bands[i], color=color_list[i]);\n",
    "plt.legend();\n",
    "plt.title('multitaper');\n",
    "plt.xlabel('freqs');\n",
    "plt.ylabel('PSDs');"
   ]
  },
  {
   "cell_type": "code",
   "execution_count": null,
   "metadata": {},
   "outputs": [],
   "source": [
    "plt.figure(figsize=(10, 8))\n",
    "\n",
    "plt.plot(freqs_multi, psds_multitaper.mean(axis=(0, 1)), color='b', label='multitaper');\n",
    "plt.plot(freqs_welch, psds_welch.mean(axis=(0, 1)), color='g', label='Welch');\n",
    "plt.legend();\n",
    "plt.title('Welch vs Multitaper');\n",
    "plt.xlabel('freqs');\n",
    "plt.ylabel('PSDs');"
   ]
  },
  {
   "cell_type": "markdown",
   "metadata": {},
   "source": [
    "The normalization and averaging method used creates a large difference between PSD values between Welch and Multitaper. "
   ]
  },
  {
   "cell_type": "markdown",
   "metadata": {},
   "source": [
    "End."
   ]
  }
 ],
 "metadata": {
  "kernelspec": {
   "display_name": "Python 3",
   "language": "python",
   "name": "python3"
  },
  "language_info": {
   "codemirror_mode": {
    "name": "ipython",
    "version": 3
   },
   "file_extension": ".py",
   "mimetype": "text/x-python",
   "name": "python",
   "nbconvert_exporter": "python",
   "pygments_lexer": "ipython3",
   "version": "3.7.6"
  }
 },
 "nbformat": 4,
 "nbformat_minor": 4
}
