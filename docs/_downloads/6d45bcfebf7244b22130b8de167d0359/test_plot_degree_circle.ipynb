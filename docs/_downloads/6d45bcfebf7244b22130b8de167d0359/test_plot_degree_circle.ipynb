{
  "cells": [
    {
      "cell_type": "code",
      "execution_count": null,
      "metadata": {
        "collapsed": false
      },
      "outputs": [],
      "source": [
        "%matplotlib inline"
      ]
    },
    {
      "cell_type": "markdown",
      "metadata": {},
      "source": [
        "\nPlot degree values for a given set of nodes in a simple circle plot.\n"
      ]
    },
    {
      "cell_type": "code",
      "execution_count": null,
      "metadata": {
        "collapsed": false
      },
      "outputs": [],
      "source": [
        "import numpy as np\nimport matplotlib.pyplot as plt\n\nimport mne\nfrom jumeg import get_jumeg_path\nfrom jumeg.connectivity import plot_degree_circle\n\nimport bct\n\norig_labels_fname = get_jumeg_path() + '/data/desikan_label_names.yaml'\nyaml_fname = get_jumeg_path() + '/data/desikan_aparc_cortex_based_grouping.yaml'\ncon_fname = get_jumeg_path() + '/data/sample,aparc-con.npy'\n\n# con_fname = '/Users/psripad/Downloads/test_env_correlations/101716_MEG94T_121219_1310_1_c,rfDC_EO_bcc,nr,ar,1,MNE,snr1,1s,epo,aparc-con.npy'\n\ncon = np.load(con_fname)\ncon_ = con[0, :, :, 2] + con[0, :, :, 2].T\n\n# test connections\n# con = np.zeros((68, 68))\n# con[55, 47] = 0.9  # rostralmiddlefrontal-rh - posteriorcingulate-rh\n# con[46, 22] = 0.6  # lateraloccipital-lh - posteriorcingulate-lh\n# con_ = con + con.T\n# degrees = mne.connectivity.degree(con_, threshold=0.2)\n\n# make a random matrix with 68 nodes\n# use simple seed for reproducibility\n# np.random.seed(42)\n# con = np.random.random((68, 68))\n# con[con < 0.6] = 0.\ndegrees = mne.connectivity.degree(con_, threshold=0.2)\n\nn_per = 0.2\nn_nodes = 68\nmax_nodes = n_nodes * (n_nodes - 1)\nn_top = int(max_nodes - max_nodes * n_per)\nn_thresh = np.sort(np.abs(con_).ravel())[-n_top]\nx_ = con_.copy()\nx_[x_ < n_thresh] = 0.\nprint(x_.nonzero()[0].shape)\n\n\neig_vector_centrality = bct.eigenvector_centrality_und(con_)\n\n# for i in range(5):\n#     fig = plt.figure(i, figsize=(18, 4))\n#     for j in range(7):\n#         con_ = con[i, :, :, j]\n#         degrees = mne.connectivity.degree(con_ + con_.T, threshold=0.2)\n#         print(degrees.std())\n#         fig, ax = plot_degree_circle(degrees, yaml_fname, orig_labels_fname,\n#                                      radsize=4, degsize=3, tight_layout=True,\n#                                      fig=fig, subplot=171+j, out_fname=None,\n#                                      show=False, show_group_labels=False)\n#         ax.set_title('Method: %d / Band: %d' % (i, j))\n#     fig.savefig('degree_circle_%d.png' % i)\n#     plt.close(fig)\n\nfig, ax = plot_degree_circle(degrees, yaml_fname, orig_labels_fname)\n\n# fig = plt.figure()\n# ax = plt.subplot(111, projection='polar')\n# for i in range(5):\n#      print(theta[i], orig_labels[i], reordered_colors[i])\n#      ax.scatter(theta[i], radii[i], c=reordered_colors[i], s=degrees[i] * 4)"
      ]
    }
  ],
  "metadata": {
    "kernelspec": {
      "display_name": "Python 3",
      "language": "python",
      "name": "python3"
    },
    "language_info": {
      "codemirror_mode": {
        "name": "ipython",
        "version": 3
      },
      "file_extension": ".py",
      "mimetype": "text/x-python",
      "name": "python",
      "nbconvert_exporter": "python",
      "pygments_lexer": "ipython3",
      "version": "3.7.7"
    }
  },
  "nbformat": 4,
  "nbformat_minor": 0
}