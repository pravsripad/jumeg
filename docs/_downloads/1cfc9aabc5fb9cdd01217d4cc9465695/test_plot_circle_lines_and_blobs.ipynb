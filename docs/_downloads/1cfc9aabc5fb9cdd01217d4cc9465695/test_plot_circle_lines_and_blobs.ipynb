{
  "cells": [
    {
      "cell_type": "code",
      "execution_count": null,
      "metadata": {
        "collapsed": false
      },
      "outputs": [],
      "source": [
        "%matplotlib inline"
      ]
    },
    {
      "cell_type": "markdown",
      "metadata": {},
      "source": [
        "\nScript to show functionality to plot centrality indices along with\nconnectivity circle plot.\n"
      ]
    },
    {
      "cell_type": "code",
      "execution_count": null,
      "metadata": {
        "collapsed": false
      },
      "outputs": [],
      "source": [
        "import numpy as np\nimport os.path as op\nimport mne\n\nfrom jumeg import get_jumeg_path\nfrom jumeg.connectivity import plot_degree_circle, plot_lines_and_blobs\n\nimport matplotlib.pyplot as plt\n\norig_labels_fname = get_jumeg_path() + '/data/desikan_label_names.yaml'\nyaml_fname = get_jumeg_path() + '/data/desikan_aparc_cortex_based_grouping.yaml'\ncon_fname = get_jumeg_path() + '/data/sample,aparc-con.npy'\n\n# real connectivity\ncon = np.load(con_fname)\ncon = con[0, :, :, 2] + con[0, :, :, 2].T\ndegrees = mne.connectivity.degree(con, threshold=0.2)\n\nimport bct\neigenvec_centrality = bct.eigenvector_centrality_und(con)\n\nfig, ax = plot_lines_and_blobs(con, degrees, yaml_fname,\n                               orig_labels_fname,\n                               figsize=(8, 8), show_node_labels=False,\n                               show_group_labels=True, n_lines=100,\n                               out_fname=None, degsize=10)\nax.set_title('Eigen vector centrality: Coh,alpha')\nfig.tight_layout()\n\n# test connections\n# con = np.zeros((68, 68))\n# con[55, 47] = 0.9  # rostralmiddlefrontal-rh - posteriorcingulate-rh\n# con[46, 22] = 0.6  # lateraloccipital-lh - posteriorcingulate-lh\n# con = con + con.T\n# degrees = mne.connectivity.degree(con, threshold=0.2)\n# fig, ax = plot_lines_and_blobs(con, degrees, yaml_fname, orig_labels_fname,\n#                                figsize=(8, 8), node_labels=True,\n#                                out_fname=None)"
      ]
    }
  ],
  "metadata": {
    "kernelspec": {
      "display_name": "Python 3",
      "language": "python",
      "name": "python3"
    },
    "language_info": {
      "codemirror_mode": {
        "name": "ipython",
        "version": 3
      },
      "file_extension": ".py",
      "mimetype": "text/x-python",
      "name": "python",
      "nbconvert_exporter": "python",
      "pygments_lexer": "ipython3",
      "version": "3.7.7"
    }
  },
  "nbformat": 4,
  "nbformat_minor": 0
}