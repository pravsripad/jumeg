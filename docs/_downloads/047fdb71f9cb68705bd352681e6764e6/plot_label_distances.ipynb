{
  "cells": [
    {
      "cell_type": "code",
      "execution_count": null,
      "metadata": {
        "collapsed": false
      },
      "outputs": [],
      "source": [
        "%matplotlib inline"
      ]
    },
    {
      "cell_type": "markdown",
      "metadata": {},
      "source": [
        "\n==============================================================\nScript to plot label distances on circle and connectome plots.\n==============================================================\n"
      ]
    },
    {
      "cell_type": "code",
      "execution_count": null,
      "metadata": {
        "collapsed": false
      },
      "outputs": [],
      "source": [
        "import os.path as op\nimport numpy as np\n\nimport mne\nfrom mne.datasets import sample\n\nfrom jumeg import get_jumeg_path\nfrom jumeg.connectivity import (get_label_distances,\n                                plot_grouped_connectivity_circle)\nimport yaml\n\nfrom nilearn import plotting\n\ndata_path = sample.data_path()\nsubjects_dir = data_path + '/subjects'\nsubject = 'sample'\n\nparc = 'aparc'\n\nyaml_fname = get_jumeg_path() + '/data/desikan_%s_cortex_based_grouping.yaml' % parc\nlabel_distances_fname = get_jumeg_path() + '/data/desikan_%s_label_com_distances.npy' % parc\n\nlabels_fname = get_jumeg_path() + '/data/desikan_label_names.yaml'\nwith open(labels_fname, 'r') as f:\n    label_names = yaml.safe_load(f)['label_names']\n\nreplacer_dict_fname = get_jumeg_path() + '/data/replacer_dictionaries.yaml'\nwith open(replacer_dict_fname, 'r') as f:\n    replacer_dict = yaml.safe_load(f)['replacer_dict_aparc']\n\n# load the distances matrix\ncon = np.load(label_distances_fname)\nnode_order_size = con.shape[0]\n\n# forget long range connections, plot short neighbouring connections\nneighbor_range = 30.  # millimetres\ncon[con > neighbor_range] = 0.\n\nplot_grouped_connectivity_circle(yaml_fname, con, label_names,\n                                 labels_mode='cortex_only',\n                                 node_order_size=node_order_size,\n                                 replacer_dict=replacer_dict,\n                                 out_fname='label_com_distances_circle_%0.1f_%s.png' % (neighbor_range, parc),\n                                 colorbar_pos=(0.1, 0.1),\n                                 n_lines=None, colorbar=True,\n                                 colormap='Reds')\n\n# compute the distances between COM's of the labels\n_, coords, _, _ = get_label_distances(subject, subjects_dir, parc=parc)\n\n# compute the degree\ndegs = mne.connectivity.degree(con, threshold_prop=1)\n\n# show the label ROIs using Nilearn plotting\nfig = plotting.plot_connectome(np.zeros((node_order_size, node_order_size)),\n                               coords, node_size=20, edge_threshold='99%',\n                               node_color='cornflowerblue',\n                               display_mode='ortho',\n                               title='%s' % parc)\n\n\n# fig.savefig('%s_label_distances_based_degrees.png' % parc)\nfig.savefig('%s_labels_degrees.png' % parc)"
      ]
    }
  ],
  "metadata": {
    "kernelspec": {
      "display_name": "Python 3",
      "language": "python",
      "name": "python3"
    },
    "language_info": {
      "codemirror_mode": {
        "name": "ipython",
        "version": 3
      },
      "file_extension": ".py",
      "mimetype": "text/x-python",
      "name": "python",
      "nbconvert_exporter": "python",
      "pygments_lexer": "ipython3",
      "version": "3.7.7"
    }
  },
  "nbformat": 4,
  "nbformat_minor": 0
}