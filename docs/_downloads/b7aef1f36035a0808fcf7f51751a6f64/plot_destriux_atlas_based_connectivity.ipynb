{
  "cells": [
    {
      "cell_type": "code",
      "execution_count": null,
      "metadata": {
        "collapsed": false
      },
      "outputs": [],
      "source": [
        "%matplotlib inline"
      ]
    },
    {
      "cell_type": "markdown",
      "metadata": {},
      "source": [
        "\n=========================================\nRead grouped aparc labels from yaml file.\n=========================================\n\nPlot grouped connectivity circle with these grouped labels\nfor the Destriux atlas.\n"
      ]
    },
    {
      "cell_type": "code",
      "execution_count": null,
      "metadata": {
        "collapsed": false
      },
      "outputs": [],
      "source": [
        "import numpy as np\nimport mne\nfrom jumeg import get_jumeg_path\nfrom jumeg.connectivity import plot_grouped_connectivity_circle\nfrom mne.viz import circular_layout, plot_connectivity_circle\nimport yaml\n\ngrouping_yaml_fname = get_jumeg_path() + '/data/destriux_aparc_cortex_based_grouping.yaml'\nlabel_names_yaml_fname = get_jumeg_path() + '/data/destriux_label_names.yaml'\n\nwith open(label_names_yaml_fname, 'r') as f:\n    label_names = yaml.safe_load(f)['label_names']\n\n# make a random matrix with 68 nodes\n# use simple seed for reproducibility\nnp.random.seed(42)\ncon = np.random.random((148, 148))\ncon[con < 0.5] = 0.\n\n# plot grouped connnectivity\nplot_grouped_connectivity_circle(grouping_yaml_fname, con, label_names,\n                                 labels_mode=None, node_order_size=148,\n                                 colorbar_pos=(0.1, 0.1), replacer_dict=None,\n                                 out_fname='destriux_circle.png',\n                                 n_lines=50, colorbar=True)"
      ]
    }
  ],
  "metadata": {
    "kernelspec": {
      "display_name": "Python 3",
      "language": "python",
      "name": "python3"
    },
    "language_info": {
      "codemirror_mode": {
        "name": "ipython",
        "version": 3
      },
      "file_extension": ".py",
      "mimetype": "text/x-python",
      "name": "python",
      "nbconvert_exporter": "python",
      "pygments_lexer": "ipython3",
      "version": "3.7.7"
    }
  },
  "nbformat": 4,
  "nbformat_minor": 0
}