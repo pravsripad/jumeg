{
  "cells": [
    {
      "cell_type": "code",
      "execution_count": null,
      "metadata": {
        "collapsed": false
      },
      "outputs": [],
      "source": [
        "%matplotlib inline"
      ]
    },
    {
      "cell_type": "markdown",
      "metadata": {},
      "source": [
        "\n=============================================\nScript exposing circle plots with outer ring.\n=============================================\n"
      ]
    },
    {
      "cell_type": "code",
      "execution_count": null,
      "metadata": {
        "collapsed": false
      },
      "outputs": [],
      "source": [
        "# Author: Praveen Sripad <pravsripad@gmail.com>\n\nimport numpy as np\nfrom jumeg.connectivity import (plot_generic_grouped_circle,\n                                plot_fica_grouped_circle)\nfrom jumeg import get_jumeg_path\n\n# load the yaml grouping of Freesurfer labels\nyaml_fname = get_jumeg_path() + '/data/rsn_desikan_aparc_cortex_grouping.yaml'\n\n# make a random matrix with 68 nodes\n# use simple seed for reproducibility\nnp.random.seed(42)\ncon = np.random.random((34, 34))\ncon[con < 0.5] = 0.\n\n# load the label names in the original order\n# this should be same order as the connectivity matrix\nlabels_fname = get_jumeg_path() + '/data/fica_names.txt'\nwith open(labels_fname, 'r') as f:\n    orig_labels = [line.rstrip('\\n') for line in f]\n\n# plot the connectivity circle grouped\nplot_generic_grouped_circle(yaml_fname, con, orig_labels,\n                            node_order_size=34,\n                            out_fname='fica_circle.png',\n                            show=False, n_lines=20,\n                            title='Groups')\n\n# plot the connectivity circle with outer group labels ring\nplot_fica_grouped_circle(yaml_fname, con, orig_labels,\n                         node_order_size=34,\n                         out_fname='fica_circle_with_names.png',\n                         show=False, n_lines=20,\n                         title='Groups + Labels')"
      ]
    }
  ],
  "metadata": {
    "kernelspec": {
      "display_name": "Python 3",
      "language": "python",
      "name": "python3"
    },
    "language_info": {
      "codemirror_mode": {
        "name": "ipython",
        "version": 3
      },
      "file_extension": ".py",
      "mimetype": "text/x-python",
      "name": "python",
      "nbconvert_exporter": "python",
      "pygments_lexer": "ipython3",
      "version": "3.7.7"
    }
  },
  "nbformat": 4,
  "nbformat_minor": 0
}