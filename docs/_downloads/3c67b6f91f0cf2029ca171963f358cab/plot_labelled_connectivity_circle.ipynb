{
  "cells": [
    {
      "cell_type": "code",
      "execution_count": null,
      "metadata": {
        "collapsed": false
      },
      "outputs": [],
      "source": [
        "%matplotlib inline"
      ]
    },
    {
      "cell_type": "markdown",
      "metadata": {},
      "source": [
        "\n======================================================================\nExample exposing the plot_labelled_group_connectivity_circle function.\n======================================================================\n"
      ]
    },
    {
      "cell_type": "code",
      "execution_count": null,
      "metadata": {
        "collapsed": false
      },
      "outputs": [],
      "source": [
        "# Author: Praveen Sripad <pravsripad@gmail.com>\n\nimport numpy as np\nfrom jumeg.connectivity import plot_labelled_group_connectivity_circle\nfrom jumeg import get_jumeg_path\nimport yaml\n\n# load the yaml grouping of Freesurfer labels\nyaml_fname = get_jumeg_path() + '/data/rsn_desikan_aparc_cortex_grouping.yaml'\nlabel_names_yaml_fname = get_jumeg_path() + '/data/desikan_label_names.yaml'\n\nwith open(label_names_yaml_fname, 'r') as f:\n    label_names = yaml.safe_load(f)['label_names']\n\n# make a random matrix with 68 nodes\n# use simple seed for reproducibility\nnp.random.seed(42)\ncon = np.random.random((68, 68))\ncon[con < 0.5] = 0.\n\n# plotting within a subplot\nplot_labelled_group_connectivity_circle(yaml_fname, con, label_names,\n                                        out_fname='rsn_circle.png',\n                                        show=False, n_lines=20, fontsize_names=6,\n                                        title='test RSN circ labels')"
      ]
    }
  ],
  "metadata": {
    "kernelspec": {
      "display_name": "Python 3",
      "language": "python",
      "name": "python3"
    },
    "language_info": {
      "codemirror_mode": {
        "name": "ipython",
        "version": 3
      },
      "file_extension": ".py",
      "mimetype": "text/x-python",
      "name": "python",
      "nbconvert_exporter": "python",
      "pygments_lexer": "ipython3",
      "version": "3.7.7"
    }
  },
  "nbformat": 4,
  "nbformat_minor": 0
}