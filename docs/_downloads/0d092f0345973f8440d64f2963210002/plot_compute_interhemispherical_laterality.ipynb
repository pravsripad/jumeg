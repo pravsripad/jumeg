{
  "cells": [
    {
      "cell_type": "code",
      "execution_count": null,
      "metadata": {
        "collapsed": false
      },
      "outputs": [],
      "source": [
        "%matplotlib inline"
      ]
    },
    {
      "cell_type": "markdown",
      "metadata": {},
      "source": [
        "\n================================================================\nCompute interhemispherical laterality between brain hemispheres.\n================================================================\n"
      ]
    },
    {
      "cell_type": "code",
      "execution_count": null,
      "metadata": {
        "collapsed": false
      },
      "outputs": [],
      "source": [
        "# Author: Praveen Sripad <pravsripad@gmail.com>\n\nimport os.path as op\nimport numpy as np\nimport mne\n\nfrom mne.datasets import sample\nfrom jumeg.jumeg_utils import get_jumeg_path\nfrom jumeg.connectivity import make_annot_from_csv\nfrom jumeg.connectivity import plot_grouped_connectivity_circle\n\ndata_path = sample.data_path()\nsubject = 'sample'\nsubjects_dir = data_path + '/subjects'\nparc_fname = 'standard_garces_2016'\ncsv_fname = op.join(get_jumeg_path(), 'data', 'standard_rsns.csv')\n\n# set make_annot to True to save the annotation to disk\nlabels, coords, foci = make_annot_from_csv(subject, subjects_dir, csv_fname,\n                                           parc_fname=parc_fname,\n                                           make_annot=False,\n                                           return_label_coords=True)\n\naparc = mne.read_labels_from_annot('sample', subjects_dir=subjects_dir)\naparc_names = [apa.name for apa in aparc]\nlh_aparc = [mylab for mylab in aparc if mylab.hemi == 'lh']"
      ]
    }
  ],
  "metadata": {
    "kernelspec": {
      "display_name": "Python 3",
      "language": "python",
      "name": "python3"
    },
    "language_info": {
      "codemirror_mode": {
        "name": "ipython",
        "version": 3
      },
      "file_extension": ".py",
      "mimetype": "text/x-python",
      "name": "python",
      "nbconvert_exporter": "python",
      "pygments_lexer": "ipython3",
      "version": "3.7.7"
    }
  },
  "nbformat": 4,
  "nbformat_minor": 0
}