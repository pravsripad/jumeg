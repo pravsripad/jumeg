{
  "cells": [
    {
      "cell_type": "code",
      "execution_count": null,
      "metadata": {
        "collapsed": false
      },
      "outputs": [],
      "source": [
        "%matplotlib inline"
      ]
    },
    {
      "cell_type": "markdown",
      "metadata": {},
      "source": [
        "\n============================================================\nTransform MNI coordinates and then reconvert it back to RAS.\n============================================================\n\nTo plot a vertex point, convert it to MNI coordinates and then reconvert it\nback to RAS to obtain the vertex number.\n\n\nIt works when 'fsaverage' subject is used, but does not when any other subjects are used.\n"
      ]
    },
    {
      "cell_type": "code",
      "execution_count": null,
      "metadata": {
        "collapsed": false
      },
      "outputs": [],
      "source": [
        "import os\nimport mne\nimport matplotlib.pyplot as plt\nfrom mne.datasets import sample\n\nprint(__doc__)\n\ndata_path = sample.data_path()\nfname_inv = data_path + '/MEG/sample/sample_audvis-meg-oct-6-meg-inv.fif'\nfname_evoked = data_path + '/MEG/sample/sample_audvis-ave.fif'\nsubjects_dir = data_path + '/subjects'\nos.environ['SUBJECTS_DIR'] = subjects_dir\n\nstc_fname = data_path + '/MEG/sample/sample_audvis-meg'\nstc = mne.read_source_estimate(stc_fname)\n\nmorph = mne.compute_source_morph(stc, subject_from='sample',\n                                 subject_to='fsaverage', spacing=5, subjects_dir=subjects_dir)\nnew_stc = morph.apply(stc)\n\nsubject = 'fsaverage'\n\n# Plot brain in 3D with PySurfer if available\nbrain = new_stc.plot(subject, hemi='lh', subjects_dir=subjects_dir)\nbrain.show_view('lateral')\n\n# use peak getter to move vizualization to the time point of the peak\nvertno_max, time_idx = new_stc.get_peak(hemi='lh', time_as_index=True)\n\nbrain.set_data_time_index(time_idx)\n\n# draw marker at maximum peaking vertex\nbrain.add_foci(vertno_max, coords_as_verts=True, hemi='lh', color='blue',\n               scale_factor=0.6, map_surface='white')\n\nmni_coords = mne.vertex_to_mni(vertno_max, hemis=0, subject=subject,\n                               subjects_dir=subjects_dir)\nprint('The MNI coords are ', mni_coords)\n\n#my_trans = mne.read_trans(?)\n#src_pts = apply_trans(trans, some_tgt_pts)\n\nfrom surfer import utils\nutils.coord_to_label(subject, mni_coords[0], label='mycoord',\n                     hemi='lh', n_steps=25, map_surface=\"white\")\nbrain.add_label('mycoord-lh.label', color=\"darkseagreen\", alpha=.8)\n\n# if the new mni_coords are computed\nbrain.add_foci(mni_coords[0], coords_as_verts=False, hemi='lh', color='red',\n               map_surface='white', scale_factor=0.6)"
      ]
    }
  ],
  "metadata": {
    "kernelspec": {
      "display_name": "Python 3",
      "language": "python",
      "name": "python3"
    },
    "language_info": {
      "codemirror_mode": {
        "name": "ipython",
        "version": 3
      },
      "file_extension": ".py",
      "mimetype": "text/x-python",
      "name": "python",
      "nbconvert_exporter": "python",
      "pygments_lexer": "ipython3",
      "version": "3.7.7"
    }
  },
  "nbformat": 4,
  "nbformat_minor": 0
}