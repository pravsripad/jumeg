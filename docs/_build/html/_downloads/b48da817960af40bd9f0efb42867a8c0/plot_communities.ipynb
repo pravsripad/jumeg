{
  "cells": [
    {
      "cell_type": "code",
      "execution_count": null,
      "metadata": {
        "collapsed": false
      },
      "outputs": [],
      "source": [
        "%matplotlib inline"
      ]
    },
    {
      "cell_type": "markdown",
      "metadata": {},
      "source": [
        "\n===============================================\nPlot Networkx Communities on a connectome plot.\n===============================================\n"
      ]
    },
    {
      "cell_type": "code",
      "execution_count": null,
      "metadata": {
        "collapsed": false
      },
      "outputs": [],
      "source": [
        "# Author: Praveen Sripad <pravsripad@gmail.com>\n\nimport numpy as np\n\nimport mne\nfrom mne.datasets import sample\nfrom jumeg.connectivity.con_utils import make_communities\n\nfrom nilearn import plotting\nimport nibabel as nib\n\nimport matplotlib.pyplot as plt\n\ndata_path = sample.data_path()\nsubjects_dir = data_path + '/subjects'\nsubject = 'fsaverage'\naparc = mne.read_labels_from_annot(subject, subjects_dir=subjects_dir,\n                                   parc='aparc')\n\n# make a random connectivity matrix\nnp.random.seed(42)\ncon = np.random.random((34, 34))\ncon[con < 0.8] = 0.\n\ntop_nodes_list, n_communities = make_communities(con)\n\n# FIXME better colouring\n# cmaps_list = ['Pastel1', 'Pastel2', 'Paired', 'Accent',\n#               'Dark2', 'Set1', 'Set2', 'Set3',\n#               'tab10', 'tab20', 'tab20b', 'tab20c']\n# color_list = plt.cm.Pastel1(np.linspace(0, 1, len(top_nodes_list)))\n\ncolor_list = ['red', 'orange', 'green', 'purple', 'navy', 'blue']\ncmaps_list = ['Reds', 'Oranges', 'Greens', 'Purples', 'PuBu', 'Blues']\n\nfig = plt.figure(facecolor='w', edgecolor='w')\n# fig = None\n\nfor top_nodes, col, cmap in zip(top_nodes_list, color_list, cmaps_list):\n\n    coords = []\n    community_ = [aparc[tp] for tp in top_nodes]\n\n    for lab in community_:\n        if lab.name is 'unknown-lh':\n            continue\n        print(lab.name)\n        # get the center of mass\n        com = lab.center_of_mass('fsaverage')\n        if lab.name.endswith('lh'):\n            # obtain mni coordinated to the vertex from left hemi\n            coords_ = mne.vertex_to_mni(com, hemis=0, subject=subject,\n                                        subjects_dir=subjects_dir)[0]\n        else:\n            coords_ = mne.vertex_to_mni(com, hemis=1, subject=subject,\n                                        subjects_dir=subjects_dir)[0]\n        coords.append(coords_)\n\n    n_nodes = np.array(coords).shape[0]\n    # make a dummy connectivity matrix\n    # FIXME use the existing con matrix with indices chosen instead\n    con_ = np.ones((n_nodes, n_nodes)) / 2.\n    con_[np.diag_indices(n_nodes)] = 0.\n    con_[np.triu_indices(n_nodes, k=1)] = 0.\n    con_ += con_.T\n\n    # plot the connectome on a glass brain background\n    plotting.plot_connectome(con_, coords, node_color=col, edge_cmap=cmap,\n                             figure=fig, edge_vmin=0., edge_vmax=1.)\n\nplt.show()\n# plt.savefig('communities.png')"
      ]
    }
  ],
  "metadata": {
    "kernelspec": {
      "display_name": "Python 3",
      "language": "python",
      "name": "python3"
    },
    "language_info": {
      "codemirror_mode": {
        "name": "ipython",
        "version": 3
      },
      "file_extension": ".py",
      "mimetype": "text/x-python",
      "name": "python",
      "nbconvert_exporter": "python",
      "pygments_lexer": "ipython3",
      "version": "3.7.7"
    }
  },
  "nbformat": 4,
  "nbformat_minor": 0
}