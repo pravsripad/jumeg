{
  "cells": [
    {
      "cell_type": "code",
      "execution_count": null,
      "metadata": {
        "collapsed": false
      },
      "outputs": [],
      "source": [
        "%matplotlib inline"
      ]
    },
    {
      "cell_type": "markdown",
      "metadata": {},
      "source": [
        "\n# Interpolate bad channels\n\n\nUse suggest_bads to automatically identify bad MEG channels\nand use interpolate_bads based on the center of mass of the\nsensors for bad channel correction.\n"
      ]
    },
    {
      "cell_type": "code",
      "execution_count": null,
      "metadata": {
        "collapsed": false
      },
      "outputs": [],
      "source": [
        "import mne\nfrom mne.datasets import sample\nfrom jumeg import suggest_bads\nfrom jumeg import interpolate_bads\n\ndata_path = sample.data_path()\nsubjects_dir = data_path + '/subjects'\n\nfname_raw = data_path + '/MEG/sample/sample_audvis_raw.fif'\n\nraw = mne.io.Raw(fname_raw, preload=True)\nmybads, raw = suggest_bads(raw, show_raw=False, summary_plot=False)\n\n# origin = None causes the method to use the sensor center of mass as origin\ninterpolate_bads(raw, origin=None, reset_bads=True)"
      ]
    }
  ],
  "metadata": {
    "kernelspec": {
      "display_name": "Python 3",
      "language": "python",
      "name": "python3"
    },
    "language_info": {
      "codemirror_mode": {
        "name": "ipython",
        "version": 3
      },
      "file_extension": ".py",
      "mimetype": "text/x-python",
      "name": "python",
      "nbconvert_exporter": "python",
      "pygments_lexer": "ipython3",
      "version": "3.7.7"
    }
  },
  "nbformat": 4,
  "nbformat_minor": 0
}