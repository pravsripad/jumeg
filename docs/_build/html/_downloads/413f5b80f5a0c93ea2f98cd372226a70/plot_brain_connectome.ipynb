{
  "cells": [
    {
      "cell_type": "code",
      "execution_count": null,
      "metadata": {
        "collapsed": false
      },
      "outputs": [],
      "source": [
        "%matplotlib inline"
      ]
    },
    {
      "cell_type": "markdown",
      "metadata": {},
      "source": [
        "\n================================================================================\nPlot connectivity on a glass brain using 'plot_connectome' function from nilearn\n================================================================================\n\nNilearn (https://nilearn.github.io/)\n"
      ]
    },
    {
      "cell_type": "code",
      "execution_count": null,
      "metadata": {
        "collapsed": false
      },
      "outputs": [],
      "source": [
        "# Author: Praveen Sripad <pravsripad@gmail.com>\n\nimport numpy as np\nimport mne\nfrom mne.datasets import sample\n\nfrom nilearn import plotting\nimport nibabel as nib\n\nimport matplotlib.pyplot as plt\n\ndata_path = sample.data_path()\nsubjects_dir = data_path + '/subjects'\nsubject = 'fsaverage'\n\naparc = mne.read_labels_from_annot(subject, subjects_dir=subjects_dir, parc='aparc')\n\n# nodes in one hemisphere can be plotted as well\naparc_lh = [lab for lab in aparc if lab.hemi == 'lh']\n\ncoords = []\n\n# plot 10 nodes from left hemisphere only for better viz\nfor lab in aparc_lh[:10]:\n    if lab.name is 'unknown-lh':\n        continue\n    # get the center of mass\n    com = lab.center_of_mass('fsaverage')\n    # obtain mni coordinated to the vertex from left hemi\n    coords_ = mne.vertex_to_mni(com, hemis=0, subject=subject, subjects_dir=subjects_dir)[0]\n    coords.append(coords_)\n\nn_nodes = np.array(coords).shape[0]\n\n# make a random connectivity matrix\ncon = np.random.random((n_nodes, n_nodes))\ncon[np.diag_indices(5)] = 0.\ncon[np.triu_indices(5, k=1)] = 0.\ncon += con.T\ncon[con < 0.6] = 0.\n\n# plot the connectome on a glass brain background\nplotting.plot_connectome(con, coords)\nplt.show()"
      ]
    }
  ],
  "metadata": {
    "kernelspec": {
      "display_name": "Python 3",
      "language": "python",
      "name": "python3"
    },
    "language_info": {
      "codemirror_mode": {
        "name": "ipython",
        "version": 3
      },
      "file_extension": ".py",
      "mimetype": "text/x-python",
      "name": "python",
      "nbconvert_exporter": "python",
      "pygments_lexer": "ipython3",
      "version": "3.7.7"
    }
  },
  "nbformat": 4,
  "nbformat_minor": 0
}