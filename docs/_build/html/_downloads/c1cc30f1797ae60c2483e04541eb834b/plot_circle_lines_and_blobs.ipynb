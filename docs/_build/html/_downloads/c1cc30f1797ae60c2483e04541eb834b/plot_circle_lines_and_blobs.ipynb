{
  "cells": [
    {
      "cell_type": "code",
      "execution_count": null,
      "metadata": {
        "collapsed": false
      },
      "outputs": [],
      "source": [
        "%matplotlib inline"
      ]
    },
    {
      "cell_type": "markdown",
      "metadata": {},
      "source": [
        "\n============================================================================================\nScript to show functionality to plot centrality indices along with connectivity circle plot.\n============================================================================================\n"
      ]
    },
    {
      "cell_type": "code",
      "execution_count": null,
      "metadata": {
        "collapsed": false
      },
      "outputs": [],
      "source": [
        "import numpy as np\nimport os.path as op\nimport mne\n\nfrom jumeg import get_jumeg_path\nfrom jumeg.connectivity import plot_degree_circle, plot_lines_and_blobs\n\nimport matplotlib.pyplot as plt\n\nimport yaml\n\norig_labels_fname = get_jumeg_path() + '/data/desikan_label_names.yaml'\nyaml_fname = get_jumeg_path() + '/data/desikan_aparc_cortex_based_grouping.yaml'\ncon_fname = get_jumeg_path() + '/data/sample,aparc-con.npy'\nreplacer_dict_fname = get_jumeg_path() + '/data/replacer_dictionaries.yaml'\n\nwith open(replacer_dict_fname, 'r') as f:\n    replacer_dict = yaml.safe_load(f)['replacer_dict_aparc']\n\n# real connectivity\ncon = np.load(con_fname)\ncon = con[0, :, :, 2] + con[0, :, :, 2].T\ndegrees = mne.connectivity.degree(con, threshold_prop=0.2)\n\nimport bct\neigenvec_centrality = bct.eigenvector_centrality_und(con)\n\nfig, ax = plot_lines_and_blobs(con, degrees, yaml_fname,\n                               orig_labels_fname,\n                               replacer_dict=replacer_dict,\n                               figsize=(8, 8), show_node_labels=False,\n                               show_group_labels=True, n_lines=100,\n                               out_fname=None, degsize=10)\nax.set_title('Eigen vector centrality: Coh,alpha')\nfig.tight_layout()"
      ]
    }
  ],
  "metadata": {
    "kernelspec": {
      "display_name": "Python 3",
      "language": "python",
      "name": "python3"
    },
    "language_info": {
      "codemirror_mode": {
        "name": "ipython",
        "version": 3
      },
      "file_extension": ".py",
      "mimetype": "text/x-python",
      "name": "python",
      "nbconvert_exporter": "python",
      "pygments_lexer": "ipython3",
      "version": "3.7.7"
    }
  },
  "nbformat": 4,
  "nbformat_minor": 0
}