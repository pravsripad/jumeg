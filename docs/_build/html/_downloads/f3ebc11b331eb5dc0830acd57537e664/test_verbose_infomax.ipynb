{
  "cells": [
    {
      "cell_type": "code",
      "execution_count": null,
      "metadata": {
        "collapsed": false
      },
      "outputs": [],
      "source": [
        "%matplotlib inline"
      ]
    },
    {
      "cell_type": "markdown",
      "metadata": {},
      "source": [
        "\nCompute infomax ICA on raw data.\n"
      ]
    },
    {
      "cell_type": "code",
      "execution_count": null,
      "metadata": {
        "collapsed": false
      },
      "outputs": [],
      "source": [
        "import mne\nfrom mne.datasets import sample\nfrom jumeg.decompose.ica import infomax\n\ndata_path = sample.data_path()\n\n# fname_raw = data_path + '/MEG/sample/sample_audvis_raw.fif'\nfname_raw = data_path + '/MEG/sample/sample_audvis_filt-0-40_raw.fif'\n\nraw = mne.io.Raw(fname_raw, preload=True)\n\n# use 60s of data\nraw.crop(0, 60)\n\npicks = mne.pick_types(raw.info, meg=True, exclude='bads')\ndata = raw.get_data()[:10, :].transpose(1, 0)\nprint(data.shape)\n\numixing_matrix =  infomax(data, weights=None, l_rate=None, block=None, w_change=1e-12,\n                          anneal_deg=60., anneal_step=0.9, extended=False, n_subgauss=1,\n                          kurt_size=6000, ext_blocks=1, max_iter=20,\n                          fixed_random_state=37, verbose=True)\n\nprint(umixing_matrix.shape)"
      ]
    }
  ],
  "metadata": {
    "kernelspec": {
      "display_name": "Python 3",
      "language": "python",
      "name": "python3"
    },
    "language_info": {
      "codemirror_mode": {
        "name": "ipython",
        "version": 3
      },
      "file_extension": ".py",
      "mimetype": "text/x-python",
      "name": "python",
      "nbconvert_exporter": "python",
      "pygments_lexer": "ipython3",
      "version": "3.7.7"
    }
  },
  "nbformat": 4,
  "nbformat_minor": 0
}