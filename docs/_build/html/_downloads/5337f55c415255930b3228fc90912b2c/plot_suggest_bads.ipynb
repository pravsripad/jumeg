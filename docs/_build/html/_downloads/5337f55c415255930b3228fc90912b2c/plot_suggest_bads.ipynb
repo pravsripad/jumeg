{
  "cells": [
    {
      "cell_type": "code",
      "execution_count": null,
      "metadata": {
        "collapsed": false
      },
      "outputs": [],
      "source": [
        "%matplotlib inline"
      ]
    },
    {
      "cell_type": "markdown",
      "metadata": {},
      "source": [
        "\n# Identify bad channels\n\n\nExample code to use the jumeg suggest bads functionality.\n"
      ]
    },
    {
      "cell_type": "code",
      "execution_count": null,
      "metadata": {
        "collapsed": false
      },
      "outputs": [],
      "source": [
        "import mne\nfrom mne.datasets import sample\nfrom jumeg import suggest_bads\n\n# provide the path of the filename:\ndata_path = sample.data_path()\nsubjects_dir = data_path + '/subjects'\n\nraw_fname = str(data_path + '/MEG/sample/sample_audvis_raw.fif')\n\nraw = mne.io.Raw(raw_fname, preload=True)\n\nmybads, raw = suggest_bads(raw, show_raw=False, summary_plot=False)"
      ]
    }
  ],
  "metadata": {
    "kernelspec": {
      "display_name": "Python 3",
      "language": "python",
      "name": "python3"
    },
    "language_info": {
      "codemirror_mode": {
        "name": "ipython",
        "version": 3
      },
      "file_extension": ".py",
      "mimetype": "text/x-python",
      "name": "python",
      "nbconvert_exporter": "python",
      "pygments_lexer": "ipython3",
      "version": "3.7.7"
    }
  },
  "nbformat": 4,
  "nbformat_minor": 0
}