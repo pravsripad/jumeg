{
  "cells": [
    {
      "cell_type": "code",
      "execution_count": null,
      "metadata": {
        "collapsed": false
      },
      "outputs": [],
      "source": [
        "%matplotlib inline"
      ]
    },
    {
      "cell_type": "markdown",
      "metadata": {},
      "source": [
        "\n# Read grouped aparc labels from yaml file and plot grouped connectivity circle\n\n"
      ]
    },
    {
      "cell_type": "code",
      "execution_count": null,
      "metadata": {
        "collapsed": false
      },
      "outputs": [],
      "source": [
        "# Author: Praveen Sripad <pravsripad@gmail.com>\n\nimport numpy as np\nfrom jumeg import get_jumeg_path\nfrom jumeg.connectivity import plot_grouped_connectivity_circle\nimport yaml\n\nlabels_fname = get_jumeg_path() + '/data/desikan_label_names.yaml'\nyaml_fname = get_jumeg_path() + '/data/desikan_aparc_cortex_based_grouping.yaml'\nreplacer_dict_fname = get_jumeg_path() + '/data/replacer_dictionaries.yaml'\n\nwith open(labels_fname, 'r') as f:\n    label_names = yaml.safe_load(f)['label_names']\n\nwith open(replacer_dict_fname, 'r') as f:\n    replacer_dict = yaml.safe_load(f)['replacer_dict_aparc']\n\n# make a random matrix with 68 nodes\n# use simple seed for reproducibility\nnp.random.seed(42)\ncon = np.random.random((68, 68))\ncon[con < 0.5] = 0.\n\nindices = (np.array((1, 2, 3)), np.array((5, 6, 7)))\nplot_grouped_connectivity_circle(yaml_fname, con, label_names,\n                                 labels_mode='cortex_only',\n                                 replacer_dict=replacer_dict,\n                                 out_fname='example_grouped_con_circle.png',\n                                 colorbar_pos=(0.1, 0.1),\n                                 n_lines=10, colorbar=True,\n                                 colormap='viridis')"
      ]
    }
  ],
  "metadata": {
    "kernelspec": {
      "display_name": "Python 3",
      "language": "python",
      "name": "python3"
    },
    "language_info": {
      "codemirror_mode": {
        "name": "ipython",
        "version": 3
      },
      "file_extension": ".py",
      "mimetype": "text/x-python",
      "name": "python",
      "nbconvert_exporter": "python",
      "pygments_lexer": "ipython3",
      "version": "3.7.7"
    }
  },
  "nbformat": 4,
  "nbformat_minor": 0
}