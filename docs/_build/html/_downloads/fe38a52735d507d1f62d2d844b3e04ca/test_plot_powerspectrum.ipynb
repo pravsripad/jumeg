{
  "cells": [
    {
      "cell_type": "code",
      "execution_count": null,
      "metadata": {
        "collapsed": false
      },
      "outputs": [],
      "source": [
        "%matplotlib inline"
      ]
    },
    {
      "cell_type": "markdown",
      "metadata": {},
      "source": [
        "\nCompute infomax ICA on raw data.\n"
      ]
    },
    {
      "cell_type": "code",
      "execution_count": null,
      "metadata": {
        "collapsed": false
      },
      "outputs": [],
      "source": [
        "import mne\nfrom mne.datasets import sample\nfrom jumeg.jumeg_plot import plot_powerspectrum\n\ndata_path = sample.data_path()\n\n# fname_raw = data_path + '/MEG/sample/sample_audvis_raw.fif'\nraw_fname = data_path + '/MEG/sample/sample_audvis_filt-0-40_raw.fif'\n\nraw = mne.io.Raw(raw_fname, preload=True)\npicks = mne.pick_types(raw.info, meg='mag', exclude='bads')\nraw.crop(0, 60)  # use 60s of data\n\npsd_fname = plot_powerspectrum(raw_fname, raw=raw, picks=None, dir_plots=None,\n                               tmin=None, tmax=None, fmin=0.0, fmax=450.0, n_fft=4096,\n                               average=True)\n\nprint(psd_fname)"
      ]
    }
  ],
  "metadata": {
    "kernelspec": {
      "display_name": "Python 3",
      "language": "python",
      "name": "python3"
    },
    "language_info": {
      "codemirror_mode": {
        "name": "ipython",
        "version": 3
      },
      "file_extension": ".py",
      "mimetype": "text/x-python",
      "name": "python",
      "nbconvert_exporter": "python",
      "pygments_lexer": "ipython3",
      "version": "3.7.7"
    }
  },
  "nbformat": 4,
  "nbformat_minor": 0
}